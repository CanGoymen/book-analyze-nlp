{
 "cells": [
  {
   "cell_type": "code",
   "execution_count": 1,
   "id": "b7b9029c",
   "metadata": {},
   "outputs": [],
   "source": [
    "import numpy as np\n",
    "from gensim.models import Word2Vec\n",
    "from sklearn.manifold import TSNE\n",
    "import matplotlib.pyplot as plt"
   ]
  },
  {
   "cell_type": "code",
   "execution_count": 2,
   "id": "33ccbe8d",
   "metadata": {},
   "outputs": [],
   "source": [
    "f = open('thelittleprince.txt', 'r')\n",
    "text = f.read()\n",
    "t_list = text.split('.')\n",
    "\n",
    "corpus = []\n",
    "\n",
    "for cumle in t_list:\n",
    "    corpus.append(cumle.split())"
   ]
  },
  {
   "cell_type": "code",
   "execution_count": 3,
   "id": "5c6f89c5",
   "metadata": {},
   "outputs": [
    {
     "name": "stdout",
     "output_type": "stream",
     "text": [
      "[['I', 'have', 'flown', 'a', 'little', 'over', 'all', 'parts', 'of', 'the', 'world;', 'and', 'it', 'is', 'true', 'that', 'geography', 'has', 'been', 'very', 'useful', 'to', 'me'], ['At', 'a', 'glance', 'I', 'can', 'distinguish', 'China', 'from', 'Arizona'], ['If', 'one', 'gets', 'lost', 'in', 'the', 'night,', 'such', 'knowledge', 'is', 'valuable'], ['In', 'the', 'course', 'of', 'this', 'life', 'I', 'have', 'had', 'a', 'great', 'many', 'encounters', 'with', 'a', 'great', 'many', 'people', 'who', 'have', 'been', 'concerned', 'with', 'matters', 'of', 'consequence'], ['I', 'have', 'lived', 'a', 'great', 'deal', 'among', 'grown-ups'], ['I', 'have', 'seen', 'them', 'intimately,', 'close', 'at', 'hand'], ['And', 'that', 'hasn’t', 'much', 'improved', 'my', 'opinion', 'of', 'them'], ['Whenever', 'I', 'met', 'one', 'of', 'them', 'who', 'seemed', 'to', 'me', 'at', 'all', 'clear-sighted,', 'I', 'tried', 'the', 'experiment', 'of', 'showing', 'him', 'my', 'Drawing', 'Number', 'One,', 'which', 'I', 'have', 'always', 'kept'], ['I', 'would', 'try', 'to', 'find', 'out,', 'so,', 'if', 'this', 'was', 'a', 'person', 'of', 'true', 'understanding'], ['But,', 'whoever', 'it', 'was,', 'he,', 'or', 'she,', 'would', 'always', 'say:', '“That', 'is', 'a', 'hat']]\n"
     ]
    }
   ],
   "source": [
    "print(corpus[20:30])"
   ]
  },
  {
   "cell_type": "code",
   "execution_count": 4,
   "id": "4224423b",
   "metadata": {},
   "outputs": [],
   "source": [
    "model = Word2Vec(corpus, window=5, min_count=5, sg=1)"
   ]
  },
  {
   "cell_type": "code",
   "execution_count": 5,
   "id": "f5b83a77",
   "metadata": {},
   "outputs": [
    {
     "data": {
      "text/plain": [
       "array([-0.00836724,  0.26673028,  0.03499538, -0.06729605,  0.08469769,\n",
       "       -0.26626605,  0.10504797,  0.31504342, -0.07239968, -0.21606846,\n",
       "        0.10914823, -0.17574576, -0.0095481 ,  0.06365346,  0.08443472,\n",
       "       -0.09474725,  0.18908569, -0.06045516,  0.01496295, -0.3010182 ,\n",
       "        0.01864826, -0.04365587,  0.08092877, -0.11149875, -0.0429214 ,\n",
       "       -0.02718167, -0.08203159, -0.12633084, -0.08712637,  0.00766988,\n",
       "        0.03150564, -0.00977486,  0.05035144, -0.12627241, -0.03771522,\n",
       "        0.22986993,  0.05945347, -0.05612839, -0.00237782, -0.20324059,\n",
       "        0.07039928, -0.12064809, -0.06646477,  0.00985789,  0.08072117,\n",
       "       -0.06579548, -0.03031234, -0.07874149,  0.12602136,  0.08555952,\n",
       "        0.0718822 , -0.14920403,  0.08841046,  0.04524783, -0.03712043,\n",
       "        0.00596431,  0.02658977, -0.00275026, -0.16097535,  0.07507633,\n",
       "        0.07464008,  0.02023275,  0.05870524, -0.05471975, -0.11188893,\n",
       "        0.10751501,  0.07375535, -0.05523072, -0.21425667,  0.14759158,\n",
       "       -0.01712774,  0.04948693,  0.21387711,  0.03039205,  0.14836758,\n",
       "        0.1774796 ,  0.05623383,  0.01783723, -0.11061733, -0.04651324,\n",
       "       -0.12444476,  0.08016638, -0.18899469,  0.133731  , -0.11541303,\n",
       "        0.06907522,  0.08573153,  0.06956141,  0.18528119, -0.10185445,\n",
       "        0.17710228,  0.04287165, -0.10632214,  0.04764714,  0.2877227 ,\n",
       "        0.09865829,  0.01181722, -0.13030413, -0.00811052, -0.03670378],\n",
       "      dtype=float32)"
      ]
     },
     "execution_count": 5,
     "metadata": {},
     "output_type": "execute_result"
    }
   ],
   "source": [
    "model.wv['rose']"
   ]
  },
  {
   "cell_type": "code",
   "execution_count": 6,
   "id": "ed8e2712",
   "metadata": {},
   "outputs": [
    {
     "data": {
      "text/plain": [
       "[('anyone', 0.9982529282569885),\n",
       " ('own', 0.998195230960846),\n",
       " ('On', 0.998193621635437),\n",
       " ('different', 0.9981709718704224),\n",
       " ('find', 0.9981526732444763),\n",
       " ('before', 0.9981069564819336),\n",
       " ('heart', 0.9981006383895874),\n",
       " ('drawing', 0.99809730052948),\n",
       " ('also', 0.9980909824371338),\n",
       " ('had', 0.9980707764625549)]"
      ]
     },
     "execution_count": 6,
     "metadata": {},
     "output_type": "execute_result"
    }
   ],
   "source": [
    "model.wv.most_similar('rose')"
   ]
  },
  {
   "cell_type": "code",
   "execution_count": 7,
   "id": "febccf92",
   "metadata": {},
   "outputs": [],
   "source": [
    "model.save('word2vec.model')"
   ]
  },
  {
   "cell_type": "code",
   "execution_count": 8,
   "id": "4fc5799b",
   "metadata": {},
   "outputs": [],
   "source": [
    "model = Word2Vec.load('word2vec.model')"
   ]
  },
  {
   "cell_type": "code",
   "execution_count": 9,
   "id": "4f55804c",
   "metadata": {},
   "outputs": [],
   "source": [
    "def closestwords_tsneplot(model, word):\n",
    "    word_vectors = np.empty((0,100))\n",
    "    word_labels = [word]\n",
    "    \n",
    "    close_words = model.wv.most_similar(word)\n",
    "    \n",
    "    word_vectors = np.append(word_vectors, np.array([model.wv[word]]), axis=0)\n",
    "    \n",
    "    for w, _ in close_words:\n",
    "        word_labels.append(w)\n",
    "        word_vectors = np.append(word_vectors, np.array([model.wv[w]]), axis=0)\n",
    "        \n",
    "    tsne = TSNE(random_state=0)\n",
    "    Y = tsne.fit_transform(word_vectors)\n",
    "    \n",
    "    x_coords = Y[:, 0]\n",
    "    y_coords = Y[:, 1]\n",
    "    \n",
    "    plt.scatter(x_coords, y_coords)\n",
    "    \n",
    "    for label, x, y in zip(word_labels, x_coords, y_coords):\n",
    "        plt.annotate(label, xy=(x, y), xytext=(5, -2), textcoords='offset points')\n",
    "        \n",
    "    plt.show()"
   ]
  },
  {
   "cell_type": "code",
   "execution_count": 10,
   "id": "a738d99b",
   "metadata": {},
   "outputs": [
    {
     "name": "stderr",
     "output_type": "stream",
     "text": [
      "/Users/cangoymen/miniforge3/envs/jupyter/lib/python3.9/site-packages/sklearn/manifold/_t_sne.py:780: FutureWarning: The default initialization in TSNE will change from 'random' to 'pca' in 1.2.\n",
      "  warnings.warn(\n",
      "/Users/cangoymen/miniforge3/envs/jupyter/lib/python3.9/site-packages/sklearn/manifold/_t_sne.py:790: FutureWarning: The default learning rate in TSNE will change from 200.0 to 'auto' in 1.2.\n",
      "  warnings.warn(\n"
     ]
    },
    {
     "data": {
      "image/png": "[encoded data removed]",
      "text/plain": [
       "<Figure size 432x288 with 1 Axes>"
      ]
     },
     "metadata": {
      "needs_background": "light"
     },
     "output_type": "display_data"
    }
   ],
   "source": [
    "closestwords_tsneplot(model, 'rose')"
   ]
  },
  {
   "cell_type": "code",
   "execution_count": null,
   "id": "8dcc63f3",
   "metadata": {},
   "outputs": [],
   "source": []
  }
 ],
 "metadata": {
  "kernelspec": {
   "display_name": "Python 3 (ipykernel)",
   "language": "python",
   "name": "python3"
  },
  "language_info": {
   "codemirror_mode": {
    "name": "ipython",
    "version": 3
   },
   "file_extension": ".py",
   "mimetype": "text/x-python",
   "name": "python",
   "nbconvert_exporter": "python",
   "pygments_lexer": "ipython3",
   "version": "3.9.12"
  }
 },
 "nbformat": 4,
 "nbformat_minor": 5
}
